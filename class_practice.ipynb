{
 "cells": [
  {
   "cell_type": "code",
   "execution_count": 5,
   "metadata": {},
   "outputs": [],
   "source": [
    "class ClassName():\n",
    "    def __init__(self,):\n",
    "        print(hagehage)"
   ]
  },
  {
   "cell_type": "code",
   "execution_count": 8,
   "metadata": {},
   "outputs": [
    {
     "name": "stdout",
     "output_type": "stream",
     "text": [
      "6\n"
     ]
    }
   ],
   "source": [
    "hagehage = 6\n",
    "\n",
    "c = ClassName()"
   ]
  },
  {
   "cell_type": "code",
   "execution_count": 11,
   "metadata": {},
   "outputs": [],
   "source": [
    "class Myclass:\n",
    "    def set_value(self, text):\n",
    "        self.value = text\n",
    "    def print_value(self):\n",
    "        print(self.value)"
   ]
  },
  {
   "cell_type": "code",
   "execution_count": 13,
   "metadata": {},
   "outputs": [
    {
     "name": "stdout",
     "output_type": "stream",
     "text": [
      "abc\n"
     ]
    }
   ],
   "source": [
    "if __name__ == \"__main__\":\n",
    "    a = Myclass()               # MyClass のインスタンスを生成\n",
    "    a.set_value(\"abc\")          # 変数 value に文字列 \"abc\" を代入 \n",
    "    a.print_value()             # abc"
   ]
  },
  {
   "cell_type": "code",
   "execution_count": 46,
   "metadata": {},
   "outputs": [],
   "source": [
    "class Oya:\n",
    "    def __init__(self,a,b):\n",
    "        self.a = a\n",
    "        self.b = b\n",
    "    def return_oya(self):\n",
    "        oya = self.a + self.b\n",
    "        return oya\n",
    "        \n",
    "class kodomo(Oya):\n",
    "    def multiple_oya(self):\n",
    "        ans = self.a * self.b\n",
    "        return ans"
   ]
  },
  {
   "cell_type": "code",
   "execution_count": 48,
   "metadata": {},
   "outputs": [
    {
     "data": {
      "text/plain": [
       "2"
      ]
     },
     "execution_count": 48,
     "metadata": {},
     "output_type": "execute_result"
    }
   ],
   "source": [
    "o = Oya(2, 3)\n",
    "\n",
    "k = kodomo(1,2)\n",
    "k.multiple_oya()"
   ]
  },
  {
   "cell_type": "code",
   "execution_count": 61,
   "metadata": {},
   "outputs": [],
   "source": [
    "class Cournot_bad:\n",
    "    def __init__(self, a, b, c):\n",
    "        self.a = a\n",
    "        self.b = b\n",
    "        self.c = c\n",
    "    def product(self):\n",
    "        self.q1 = (a-c)/b\n",
    "        self.q2 = (a-c)/b\n",
    "    def whole_product(self, q1, q2):\n",
    "        self.q = self.q1 + self.q2\n",
    "    def price(self, q):\n",
    "        self.p = self.a - (self.b * self.q)\n",
    "    def ans(self):\n",
    "        return self.q1, self.q2, self.q, self.p"
   ]
  },
  {
   "cell_type": "code",
   "execution_count": 76,
   "metadata": {},
   "outputs": [],
   "source": [
    "class Cournot:\n",
    "    def __init__(self, a, b, c):\n",
    "        self.a = a\n",
    "        self.b = b\n",
    "        self.c = c\n",
    "    def formula(self):\n",
    "        print(\"P =\", self.a, \"-\", self.b, \"Q\")\n",
    "        print(\"C =\", self.c, \"Q\")\n",
    "    def ans(self):\n",
    "        self.q1 = (self.a-self.c)/self.b\n",
    "        self.q2 = (self.a-self.c)/self.b\n",
    "        self.q = self.q1 + self.q2\n",
    "        self.p = (self.a + (2 * self.b)) / 3\n",
    "        return self.q1, self.q2, self.q, self.p"
   ]
  },
  {
   "cell_type": "code",
   "execution_count": 75,
   "metadata": {},
   "outputs": [
    {
     "name": "stdout",
     "output_type": "stream",
     "text": [
      "P = 400 - 10 Q\n",
      "C = 5 Q\n"
     ]
    },
    {
     "data": {
      "text/plain": [
       "(39.5, 39.5, 79.0, 140.0)"
      ]
     },
     "execution_count": 75,
     "metadata": {},
     "output_type": "execute_result"
    }
   ],
   "source": [
    "cournot = Cournot(400, 10, 5)\n",
    "cournot.formula()\n",
    "cournot.ans()"
   ]
  },
  {
   "cell_type": "code",
   "execution_count": 83,
   "metadata": {},
   "outputs": [],
   "source": [
    "class Test:\n",
    "    def __init__(self, a, b):\n",
    "        self.a = a\n",
    "        self.b = b\n",
    "    def first(self):\n",
    "        self.c = self.a + self.b\n",
    "        self.d = self.a * self.b\n",
    "    def second(self):\n",
    "        val = []\n",
    "        for i in range(10):\n",
    "            self.first()\n",
    "            val.append((self.c, self.d))\n",
    "            self.a = self.c\n",
    "            self.b = self.d\n",
    "        return val"
   ]
  },
  {
   "cell_type": "code",
   "execution_count": 85,
   "metadata": {},
   "outputs": [
    {
     "data": {
      "text/plain": [
       "[(2, 1),\n",
       " (3, 2),\n",
       " (5, 6),\n",
       " (11, 30),\n",
       " (41, 330),\n",
       " (371, 13530),\n",
       " (13901, 5019630),\n",
       " (5033531, 69777876630),\n",
       " (69782910161, 351229105131280530),\n",
       " (351229174914190691, 24509789089304573335878465330)]"
      ]
     },
     "execution_count": 85,
     "metadata": {},
     "output_type": "execute_result"
    }
   ],
   "source": [
    "tes = Test(1, 1)\n",
    "tes.second()"
   ]
  },
  {
   "cell_type": "code",
   "execution_count": 88,
   "metadata": {},
   "outputs": [
    {
     "name": "stdout",
     "output_type": "stream",
     "text": [
      "0 me\n",
      "1 he\n",
      "2 she\n"
     ]
    }
   ],
   "source": [
    "l = ['me', 'he', 'she']\n",
    "for i, name in enumerate(l):\n",
    "    print(i, name)"
   ]
  },
  {
   "cell_type": "code",
   "execution_count": 64,
   "metadata": {},
   "outputs": [],
   "source": [
    "class Newton:\n",
    "    def __init__(self, a, tol):\n",
    "        self.a = a\n",
    "        self.tol = tol\n",
    "    def f(self, x):\n",
    "        return x**2 - x + 1\n",
    "    def new_slope(self, y):\n",
    "        import sympy\n",
    "        z = sympy.Symbol('z')\n",
    "        der = sympy.diff(self.f(z), z)\n",
    "        new_slope = der.subs(z, y)\n",
    "        return new_slope\n",
    "    def new_x(self, old_x):\n",
    "        new_slope = self.new_slope(old_x)\n",
    "        new_x = old_x - (self.f(old_x) / float(new_slope))\n",
    "        return new_x\n",
    "    def newton_method_zero(self):\n",
    "        x = self.a\n",
    "        loops = []\n",
    "        while self.f(x) >= self.tol:\n",
    "            loops.append(x)\n",
    "            new_x = self.new_x(x)\n",
    "            x = new_x\n",
    "        return x, loops\n",
    "    def newton_method_min(self):\n",
    "        x = self.a\n",
    "        loops = []\n",
    "        while self.new_slope(x) > self.tol:\n",
    "            loops.append(x)\n",
    "            new_x = self.new_x(x)\n",
    "            x = new_x\n",
    "        return x, loops"
   ]
  },
  {
   "cell_type": "code",
   "execution_count": 65,
   "metadata": {},
   "outputs": [
    {
     "data": {
      "text/plain": [
       "(-8.167752356861968,\n",
       " [5, 2.6666666666666665, 1.41025641025641, 0.5431563741422893])"
      ]
     },
     "execution_count": 65,
     "metadata": {},
     "output_type": "execute_result"
    }
   ],
   "source": [
    "n = Newton(5, 1e-5)\n",
    "n.newton_method_min()"
   ]
  },
  {
   "cell_type": "code",
   "execution_count": null,
   "metadata": {},
   "outputs": [],
   "source": []
  }
 ],
 "metadata": {
  "kernelspec": {
   "display_name": "Python 3",
   "language": "python",
   "name": "python3"
  },
  "language_info": {
   "codemirror_mode": {
    "name": "ipython",
    "version": 3
   },
   "file_extension": ".py",
   "mimetype": "text/x-python",
   "name": "python",
   "nbconvert_exporter": "python",
   "pygments_lexer": "ipython3",
   "version": "3.7.0"
  }
 },
 "nbformat": 4,
 "nbformat_minor": 2
}
